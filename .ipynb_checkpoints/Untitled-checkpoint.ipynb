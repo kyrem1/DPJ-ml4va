{
 "cells": [
  {
   "cell_type": "code",
   "execution_count": 13,
   "id": "91f33103",
   "metadata": {},
   "outputs": [],
   "source": [
    "import numpy as np\n",
    "import pandas as pd\n",
    "import chardet\n",
    "import matplotlib.pyplot as plt"
   ]
  },
  {
   "cell_type": "code",
   "execution_count": 19,
   "id": "5927b0ec",
   "metadata": {},
   "outputs": [],
   "source": [
    "epa = pd.read_excel('data/ctyfactbook2022.xlsx', header=2)\n",
    "passrates = pd.read_excel('data/division_pass_rates_by_test_2022_2023.xlsx')\n",
    "edu = pd.read_csv('data/Education.csv', encoding='latin-1')\n",
    "pop = pd.read_csv('data/PopulationEstimates.csv', encoding='latin-1')\n",
    "pov = pd.read_csv('data/PovertyEstimates.csv', encoding='latin-1')\n",
    "jobs = pd.read_csv('data/Unemployment.csv', encoding='latin-1')"
   ]
  },
  {
   "cell_type": "code",
   "execution_count": 24,
   "id": "5d84ecee",
   "metadata": {},
   "outputs": [],
   "source": [
    "datasets = [epa, passrates, edu, pop, pov, jobs]"
   ]
  },
  {
   "cell_type": "code",
   "execution_count": 11,
   "id": "57becc12",
   "metadata": {},
   "outputs": [
    {
     "data": {
      "text/html": [
       "<div>\n",
       "<style scoped>\n",
       "    .dataframe tbody tr th:only-of-type {\n",
       "        vertical-align: middle;\n",
       "    }\n",
       "\n",
       "    .dataframe tbody tr th {\n",
       "        vertical-align: top;\n",
       "    }\n",
       "\n",
       "    .dataframe thead th {\n",
       "        text-align: right;\n",
       "    }\n",
       "</style>\n",
       "<table border=\"1\" class=\"dataframe\">\n",
       "  <thead>\n",
       "    <tr style=\"text-align: right;\">\n",
       "      <th></th>\n",
       "      <th>LEVEL</th>\n",
       "      <th>Div Num</th>\n",
       "      <th>Div Name</th>\n",
       "      <th>Subject</th>\n",
       "      <th>Grade</th>\n",
       "      <th>Test</th>\n",
       "      <th>2020-2021 Pass Rate</th>\n",
       "      <th>2021-2022 Pass Rate</th>\n",
       "      <th>2022-2023 Pass Rate</th>\n",
       "      <th>2020-2021 Adv Pass Rate</th>\n",
       "      <th>2021-2022 Adv Pass Rate</th>\n",
       "      <th>2022-2023 Adv Pass Rate</th>\n",
       "    </tr>\n",
       "  </thead>\n",
       "  <tbody>\n",
       "    <tr>\n",
       "      <th>0</th>\n",
       "      <td>DIV</td>\n",
       "      <td>1</td>\n",
       "      <td>Accomack County</td>\n",
       "      <td>English: Reading</td>\n",
       "      <td>Gr 3</td>\n",
       "      <td>English Reading</td>\n",
       "      <td>48</td>\n",
       "      <td>55</td>\n",
       "      <td>53</td>\n",
       "      <td>4</td>\n",
       "      <td>5</td>\n",
       "      <td>4</td>\n",
       "    </tr>\n",
       "    <tr>\n",
       "      <th>1</th>\n",
       "      <td>DIV</td>\n",
       "      <td>1</td>\n",
       "      <td>Accomack County</td>\n",
       "      <td>English: Reading</td>\n",
       "      <td>Gr 4</td>\n",
       "      <td>English Reading</td>\n",
       "      <td>54</td>\n",
       "      <td>62</td>\n",
       "      <td>65</td>\n",
       "      <td>8</td>\n",
       "      <td>8</td>\n",
       "      <td>9</td>\n",
       "    </tr>\n",
       "    <tr>\n",
       "      <th>2</th>\n",
       "      <td>DIV</td>\n",
       "      <td>1</td>\n",
       "      <td>Accomack County</td>\n",
       "      <td>English: Reading</td>\n",
       "      <td>Gr 5</td>\n",
       "      <td>English Reading</td>\n",
       "      <td>50</td>\n",
       "      <td>60</td>\n",
       "      <td>64</td>\n",
       "      <td>6</td>\n",
       "      <td>5</td>\n",
       "      <td>4</td>\n",
       "    </tr>\n",
       "    <tr>\n",
       "      <th>3</th>\n",
       "      <td>DIV</td>\n",
       "      <td>1</td>\n",
       "      <td>Accomack County</td>\n",
       "      <td>English: Reading</td>\n",
       "      <td>Gr 6</td>\n",
       "      <td>English Reading</td>\n",
       "      <td>63</td>\n",
       "      <td>66</td>\n",
       "      <td>68</td>\n",
       "      <td>10</td>\n",
       "      <td>6</td>\n",
       "      <td>9</td>\n",
       "    </tr>\n",
       "    <tr>\n",
       "      <th>4</th>\n",
       "      <td>DIV</td>\n",
       "      <td>1</td>\n",
       "      <td>Accomack County</td>\n",
       "      <td>English: Reading</td>\n",
       "      <td>Gr 7</td>\n",
       "      <td>English Reading</td>\n",
       "      <td>63</td>\n",
       "      <td>71</td>\n",
       "      <td>63</td>\n",
       "      <td>5</td>\n",
       "      <td>8</td>\n",
       "      <td>8</td>\n",
       "    </tr>\n",
       "  </tbody>\n",
       "</table>\n",
       "</div>"
      ],
      "text/plain": [
       "  LEVEL  Div Num          Div Name           Subject Grade             Test  \\\n",
       "0   DIV        1  Accomack County   English: Reading  Gr 3  English Reading   \n",
       "1   DIV        1  Accomack County   English: Reading  Gr 4  English Reading   \n",
       "2   DIV        1  Accomack County   English: Reading  Gr 5  English Reading   \n",
       "3   DIV        1  Accomack County   English: Reading  Gr 6  English Reading   \n",
       "4   DIV        1  Accomack County   English: Reading  Gr 7  English Reading   \n",
       "\n",
       "  2020-2021 Pass Rate 2021-2022 Pass Rate 2022-2023 Pass Rate  \\\n",
       "0                  48                  55                  53   \n",
       "1                  54                  62                  65   \n",
       "2                  50                  60                  64   \n",
       "3                  63                  66                  68   \n",
       "4                  63                  71                  63   \n",
       "\n",
       "  2020-2021 Adv Pass Rate 2021-2022 Adv Pass Rate 2022-2023 Adv Pass Rate  \n",
       "0                       4                       5                       4  \n",
       "1                       8                       8                       9  \n",
       "2                       6                       5                       4  \n",
       "3                      10                       6                       9  \n",
       "4                       5                       8                       8  "
      ]
     },
     "execution_count": 11,
     "metadata": {},
     "output_type": "execute_result"
    }
   ],
   "source": []
  },
  {
   "cell_type": "code",
   "execution_count": 9,
   "id": "915a96c1",
   "metadata": {},
   "outputs": [
    {
     "data": {
      "text/plain": [
       "15028"
      ]
     },
     "execution_count": 9,
     "metadata": {},
     "output_type": "execute_result"
    }
   ],
   "source": [
    "epa.size"
   ]
  },
  {
   "cell_type": "code",
   "execution_count": null,
   "id": "bf5ef6c2",
   "metadata": {},
   "outputs": [],
   "source": []
  }
 ],
 "metadata": {
  "kernelspec": {
   "display_name": "Python 3 (ipykernel)",
   "language": "python",
   "name": "python3"
  },
  "language_info": {
   "codemirror_mode": {
    "name": "ipython",
    "version": 3
   },
   "file_extension": ".py",
   "mimetype": "text/x-python",
   "name": "python",
   "nbconvert_exporter": "python",
   "pygments_lexer": "ipython3",
   "version": "3.10.9"
  }
 },
 "nbformat": 4,
 "nbformat_minor": 5
}
